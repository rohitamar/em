{
 "cells": [
  {
   "cell_type": "code",
   "execution_count": 2,
   "id": "c97fdc71",
   "metadata": {},
   "outputs": [],
   "source": [
    "import numpy as np\n",
    "\n",
    "x = np.arange(1, 10).reshape(3, 3)"
   ]
  },
  {
   "cell_type": "code",
   "execution_count": 3,
   "id": "bcc67cff",
   "metadata": {},
   "outputs": [
    {
     "data": {
      "text/plain": [
       "array([[1, 2, 3],\n",
       "       [4, 5, 6],\n",
       "       [7, 8, 9]])"
      ]
     },
     "execution_count": 3,
     "metadata": {},
     "output_type": "execute_result"
    }
   ],
   "source": [
    "x"
   ]
  },
  {
   "cell_type": "code",
   "execution_count": 6,
   "id": "0120f17b",
   "metadata": {},
   "outputs": [
    {
     "data": {
      "text/plain": [
       "(3, 1)"
      ]
     },
     "execution_count": 6,
     "metadata": {},
     "output_type": "execute_result"
    }
   ],
   "source": [
    "x[:, 1][:, None].shape"
   ]
  },
  {
   "cell_type": "code",
   "execution_count": 6,
   "id": "5418a2f7",
   "metadata": {},
   "outputs": [
    {
     "data": {
      "text/plain": [
       "(1, 8)"
      ]
     },
     "execution_count": 6,
     "metadata": {},
     "output_type": "execute_result"
    }
   ],
   "source": [
    "x[None, :].shape"
   ]
  },
  {
   "cell_type": "code",
   "execution_count": 7,
   "id": "4b1dcae8",
   "metadata": {},
   "outputs": [
    {
     "data": {
      "text/plain": [
       "array([36])"
      ]
     },
     "execution_count": 7,
     "metadata": {},
     "output_type": "execute_result"
    }
   ],
   "source": [
    "x.sum(axis=0, keepdims=True)"
   ]
  },
  {
   "cell_type": "code",
   "execution_count": 23,
   "id": "37b16a3c",
   "metadata": {},
   "outputs": [],
   "source": [
    "import numpy as np \n",
    "from scipy.stats import multivariate_normal as mvn \n",
    "\n",
    "seed = 1010\n",
    "\n",
    "def init(X, K):\n",
    "    pi = np.full(K, 1.0 / K)\n",
    "\n",
    "    rng = np.random.default_rng(seed)\n",
    "    rand_idx = rng.choice(X.shape[0], size=K, replace=False)\n",
    "    mu = X[rand_idx].copy()\n",
    "\n",
    "    var = np.cov(X, rowvar=False)\n",
    "    var = np.expand_dims(var, axis=0)\n",
    "    var = np.repeat(var, K, axis=0)\n",
    "\n",
    "    return pi, mu, var\n",
    "\n",
    "def e_step(X, K, pi, mu, var):\n",
    "    N = X.shape[0]\n",
    "    gamma = np.zeros((N, K))\n",
    "    mvn_dists = [mvn(mean=mu[i], cov=var[i]) for i in range(K)]\n",
    "    \n",
    "    for j in range(K):\n",
    "        gamma[:, j] = mvn_dists[j].pdf(X) * pi[j]\n",
    "    \n",
    "    gamma /= gamma.sum(axis=1, keepdims=True)\n",
    "    return gamma \n",
    "\n",
    "def m_step(X, K, gamma, mu, var):\n",
    "    \n",
    "    N, D = X.shape\n",
    "    gamma_sum = gamma.sum(axis=0)\n",
    "    pi_new = gamma_sum / N\n",
    "\n",
    "    mu_new = (gamma.T @ X) / gamma_sum[:, None]\n",
    "\n",
    "    var_new = np.zeros_like(var)\n",
    "    for k in range(K):\n",
    "        diff = X - mu_new[k]\n",
    "        g = gamma[:, k][:, None]\n",
    "        var_new[k] = (g * diff).T @ diff / gamma_sum[k] + 1e-6 * np.eye(D)\n",
    "\n",
    "    return pi_new, mu_new, var_new\n",
    "\n",
    "def compute_likelihood(X, pi, mu, var):\n",
    "    N, K = X.shape[0], pi.shape[0]\n",
    "    likelihood = np.zeros(N)\n",
    "    for i in range(K):\n",
    "        likelihood += pi[i] * mvn(mean=mu[i], cov=var[i]).pdf(X)\n",
    "    return np.log(likelihood).sum()\n",
    "\n",
    "def gmm(X, K, max_iter):\n",
    "\n",
    "    pi, mu, var = init(X, K)\n",
    "    print(mu)\n",
    "    likelihood = []\n",
    "\n",
    "    for i in range(max_iter):\n",
    "        gamma = e_step(X, K, pi, mu, var)\n",
    "        pi, mu, var = m_step(X, K, gamma, mu, var)\n",
    "        likelihood.append(\n",
    "            compute_likelihood(X, pi, mu, var)\n",
    "        )\n",
    "\n",
    "    return pi, mu, var, gamma, likelihood"
   ]
  },
  {
   "cell_type": "code",
   "execution_count": 24,
   "id": "6eca8cf2",
   "metadata": {},
   "outputs": [],
   "source": [
    "import numpy as np \n",
    "from PIL import Image \n",
    "\n",
    "def load_pixel(path):\n",
    "    img = Image.open(path).convert(\"RGB\")\n",
    "    arr = np.asarray(img, dtype=np.float32) / 255.0\n",
    "    h, w = arr.shape[:2]\n",
    "    pixels = arr.reshape(-1, 3)\n",
    "    return pixels, h, w\n",
    "\n",
    "X, h, w = load_pixel('ronaldo.png')"
   ]
  },
  {
   "cell_type": "code",
   "execution_count": 25,
   "id": "179ed367",
   "metadata": {},
   "outputs": [
    {
     "name": "stdout",
     "output_type": "stream",
     "text": [
      "[[0.7921569  0.5882353  0.43529412]\n",
      " [0.09411765 0.10588235 0.23529412]\n",
      " [0.2901961  0.2784314  0.2509804 ]\n",
      " [0.49019608 0.38431373 0.02745098]\n",
      " [0.03137255 0.14117648 0.28627452]\n",
      " [0.5529412  0.5686275  0.5019608 ]\n",
      " [0.39607844 0.22352941 0.1254902 ]\n",
      " [0.78431374 0.62352943 0.49803922]\n",
      " [0.00784314 0.29803923 0.8901961 ]\n",
      " [0.47058824 0.41568628 0.2784314 ]\n",
      " [0.42352942 0.44313726 0.46666667]\n",
      " [0.5176471  0.44313726 0.31764707]\n",
      " [0.4627451  0.47058824 0.41960785]\n",
      " [0.4509804  0.43529412 0.3372549 ]\n",
      " [0.4        0.34117648 0.17254902]\n",
      " [0.03529412 0.07843138 0.14901961]]\n"
     ]
    }
   ],
   "source": [
    "K = 16\n",
    "pi, mu, var, gamma, _ = gmm(X, K, max_iter=50)\n",
    "\n",
    "labels = np.argmax(gamma, axis=1)\n",
    "palette = mu * 255\n",
    "q = palette[labels].astype(np.uint8)\n",
    "quant_img = q.reshape(h, w, 3)"
   ]
  },
  {
   "cell_type": "code",
   "execution_count": 27,
   "id": "952d08a4",
   "metadata": {},
   "outputs": [],
   "source": [
    "Image.fromarray(quant_img).show()  "
   ]
  },
  {
   "cell_type": "code",
   "execution_count": 26,
   "id": "1d66d0db",
   "metadata": {},
   "outputs": [
    {
     "data": {
      "text/plain": [
       "array([2, 2, 2, ..., 8, 8, 8], dtype=int64)"
      ]
     },
     "execution_count": 26,
     "metadata": {},
     "output_type": "execute_result"
    }
   ],
   "source": [
    "labels"
   ]
  },
  {
   "cell_type": "code",
   "execution_count": 21,
   "id": "6a9fbe35",
   "metadata": {},
   "outputs": [
    {
     "data": {
      "text/plain": [
       "array([[0.36173343, 0.34768365, 0.26570285],\n",
       "       [0.36173343, 0.34768365, 0.26570285],\n",
       "       [0.36173343, 0.34768365, 0.26570285],\n",
       "       [0.36173343, 0.34768365, 0.26570285],\n",
       "       [0.36173343, 0.34768365, 0.26570285],\n",
       "       [0.36173343, 0.34768365, 0.26570285],\n",
       "       [0.36173343, 0.34768365, 0.26570285],\n",
       "       [0.36173343, 0.34768365, 0.26570285],\n",
       "       [0.36173343, 0.34768365, 0.26570285],\n",
       "       [0.36173343, 0.34768365, 0.26570285],\n",
       "       [0.36173343, 0.34768365, 0.26570285],\n",
       "       [0.36173343, 0.34768365, 0.26570285],\n",
       "       [0.36173343, 0.34768365, 0.26570285],\n",
       "       [0.36173343, 0.34768365, 0.26570285],\n",
       "       [0.36173343, 0.34768365, 0.26570285],\n",
       "       [0.36173343, 0.34768365, 0.26570285]])"
      ]
     },
     "execution_count": 21,
     "metadata": {},
     "output_type": "execute_result"
    }
   ],
   "source": [
    "mu"
   ]
  },
  {
   "cell_type": "code",
   "execution_count": null,
   "id": "6211e005",
   "metadata": {},
   "outputs": [],
   "source": []
  }
 ],
 "metadata": {
  "kernelspec": {
   "display_name": "Python 3",
   "language": "python",
   "name": "python3"
  },
  "language_info": {
   "codemirror_mode": {
    "name": "ipython",
    "version": 3
   },
   "file_extension": ".py",
   "mimetype": "text/x-python",
   "name": "python",
   "nbconvert_exporter": "python",
   "pygments_lexer": "ipython3",
   "version": "3.10.0"
  }
 },
 "nbformat": 4,
 "nbformat_minor": 5
}
